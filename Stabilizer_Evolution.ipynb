{
  "nbformat": 4,
  "nbformat_minor": 0,
  "metadata": {
    "colab": {
      "provenance": []
    },
    "kernelspec": {
      "name": "python3",
      "display_name": "Python 3"
    },
    "language_info": {
      "name": "python"
    }
  },
  "cells": [
    {
      "cell_type": "code",
      "execution_count": null,
      "metadata": {
        "id": "uFumvfq6dbDv"
      },
      "outputs": [],
      "source": [
        "import numpy as np"
      ]
    },
    {
      "cell_type": "code",
      "source": [
        "import networkx as nx"
      ],
      "metadata": {
        "id": "ZMu0uyv9yYDm"
      },
      "execution_count": null,
      "outputs": []
    },
    {
      "cell_type": "code",
      "execution_count": null,
      "metadata": {
        "id": "eb9175ff"
      },
      "outputs": [],
      "source": [
        "class ClusterState:\n",
        "\n",
        "    def __init__(self, nodes, edges, state_qubit):\n",
        "        self.edges = edges\n",
        "        self.num_nodes = nodes\n",
        "        self.state_qubit = state_qubit\n",
        "        self.adjecency_matrix = self._set_adjecency_matrix(nodes, edges)\n",
        "        self.H_X, self.H_Z = self.parity_check_matrix()\n",
        "\n",
        "    def _set_adjecency_matrix(self, dimension, edges):\n",
        "        adjecency_matrix = np.zeros((dimension, dimension))\n",
        "        for e in edges:\n",
        "            i, j = e\n",
        "            adjecency_matrix[int(i)-1][int(j)-1] = 1\n",
        "            adjecency_matrix[int(j)-1][int(i)-1] = 1\n",
        "        return adjecency_matrix\n",
        "\n",
        "    def parity_check_matrix(self):\n",
        "        H_X = np.zeros((self.num_nodes, self.num_nodes))\n",
        "        H_Z = np.zeros((self.num_nodes, self.num_nodes))\n",
        "        H_Z = self.adjecency_matrix\n",
        "        for i in range(len(H_X)):\n",
        "            H_X[i][i] = 1\n",
        "        return H_X, H_Z\n",
        "\n",
        "    @staticmethod\n",
        "    def stabilizer_generators(H_X, H_Z):\n",
        "        dim = H_X.shape[-1]\n",
        "        generators = []\n",
        "        for i in range(len(H_X)):\n",
        "            stabilizer = [\"I\"]*dim\n",
        "            for j in range(dim):\n",
        "                if H_Z[i][j] == 1:\n",
        "                    stabilizer[j] = \"Z\"\n",
        "                if H_X[i][j] == 1:\n",
        "                    stabilizer[j] = \"X\"\n",
        "            stabilizer = \"\".join(stabilizer)\n",
        "            generators.append(stabilizer)\n",
        "        return generators\n",
        "\n",
        "    @staticmethod\n",
        "    def offset(n, lst):\n",
        "        if len(lst) == 0:\n",
        "            return 0\n",
        "        else:\n",
        "            off = list(filter(lambda x: n > x, lst))\n",
        "            count = len(off)\n",
        "            return count\n",
        "\n",
        "    @staticmethod\n",
        "    def XOR(arr1, arr2):\n",
        "        arr = arr1 != arr2\n",
        "        arr = arr.astype(int)\n",
        "        return arr\n",
        "\n",
        "    def measure(self, measurement):\n",
        "        updated_h_x = np.copy(self.H_X)\n",
        "        updated_h_z = np.copy(self.H_Z)\n",
        "        state = int(self.state_qubit)-1\n",
        "        updated_h_x = np.delete(updated_h_x,state,0)\n",
        "        updated_h_z = np.delete(updated_h_z,state,0)\n",
        "        qubits_measured = []\n",
        "        for q in measurement:\n",
        "            p = int(q)-1\n",
        "            anti_commute = []\n",
        "            p1 = p - ClusterState.offset(p,qubits_measured)\n",
        "            for i in range(len(updated_h_z)):\n",
        "                if updated_h_z[i][p1] == 1:\n",
        "                    anti_commute.append(i)\n",
        "            i1 = anti_commute[0]\n",
        "            for i in range(1,len(anti_commute)):\n",
        "                i2 = anti_commute[i]\n",
        "                x = ClusterState.XOR(updated_h_x[i1], updated_h_x[i2])\n",
        "                z = ClusterState.XOR(updated_h_z[i1], updated_h_z[i2])\n",
        "                for i in range(len(x)):\n",
        "                    updated_h_x[i2][i] = x[i]\n",
        "                    updated_h_z[i2][i] = z[i]\n",
        "            qubits_measured.append(p1)\n",
        "            h_x = np.delete(updated_h_x,i1,0)\n",
        "            h_z = np.delete(updated_h_z,i1,0)\n",
        "            h_x = np.delete(h_x,p1,1)\n",
        "            h_z = np.delete(h_z,p1,1)\n",
        "            updated_h_x = h_x\n",
        "            updated_h_z = h_z\n",
        "        return updated_h_x, updated_h_z"
      ]
    },
    {
      "cell_type": "code",
      "source": [
        "nodes = 17\n",
        "\n",
        "edges = [('1','11'),('1','12'),('1','13'),('2','11'),\n",
        "     ('2','12'),('3','11'),('3','13'),('4','11'),\n",
        "     ('4','14'),('4','15'),('5','11'),('5','14'),\n",
        "     ('6','11'),('6','15'),('7','11'),('7','16'),\n",
        "     ('7','17'), ('8','11'),('8','16'),('9','11'),\n",
        "     ('9','17'),('10','11')]\n",
        "\n",
        "cluster_state_shor = ClusterState(nodes,edges,'10')\n",
        "sg = cluster_state_shor.stabilizer_generators(cluster_state_shor.H_X, cluster_state_shor.H_Z)\n",
        "sg"
      ],
      "metadata": {
        "colab": {
          "base_uri": "https://localhost:8080/"
        },
        "id": "CdsYRXO4eN_I",
        "outputId": "520b8ff4-567e-408e-f77c-e2d400293574"
      },
      "execution_count": null,
      "outputs": [
        {
          "output_type": "execute_result",
          "data": {
            "text/plain": [
              "['XIIIIIIIIIZZZIIII',\n",
              " 'IXIIIIIIIIZZIIIII',\n",
              " 'IIXIIIIIIIZIZIIII',\n",
              " 'IIIXIIIIIIZIIZZII',\n",
              " 'IIIIXIIIIIZIIZIII',\n",
              " 'IIIIIXIIIIZIIIZII',\n",
              " 'IIIIIIXIIIZIIIIZZ',\n",
              " 'IIIIIIIXIIZIIIIZI',\n",
              " 'IIIIIIIIXIZIIIIIZ',\n",
              " 'IIIIIIIIIXZIIIIII',\n",
              " 'ZZZZZZZZZZXIIIIII',\n",
              " 'ZZIIIIIIIIIXIIIII',\n",
              " 'ZIZIIIIIIIIIXIIII',\n",
              " 'IIIZZIIIIIIIIXIII',\n",
              " 'IIIZIZIIIIIIIIXII',\n",
              " 'IIIIIIZZIIIIIIIXI',\n",
              " 'IIIIIIZIZIIIIIIIX']"
            ]
          },
          "metadata": {},
          "execution_count": 26
        }
      ]
    },
    {
      "cell_type": "code",
      "source": [
        "measurement = [\"10\", \"11\", \"12\", \"13\", \"14\", \"15\", \"16\", \"17\"]\n",
        "final_h_x, final_h_z = cluster_state_shor.measure(measurement)\n",
        "ls = [final_h_x, final_h_z]\n",
        "final_h_x, final_h_z"
      ],
      "metadata": {
        "colab": {
          "base_uri": "https://localhost:8080/"
        },
        "id": "bost0xJChWq0",
        "outputId": "cdc451dc-6b52-4953-da87-524b3aef770d"
      },
      "execution_count": null,
      "outputs": [
        {
          "output_type": "execute_result",
          "data": {
            "text/plain": [
              "(array([[1., 1., 1., 1., 1., 1., 0., 0., 0.],\n",
              "        [1., 1., 1., 0., 0., 0., 1., 1., 1.],\n",
              "        [0., 0., 0., 0., 0., 0., 0., 0., 0.],\n",
              "        [0., 0., 0., 0., 0., 0., 0., 0., 0.],\n",
              "        [0., 0., 0., 0., 0., 0., 0., 0., 0.],\n",
              "        [0., 0., 0., 0., 0., 0., 0., 0., 0.],\n",
              "        [0., 0., 0., 0., 0., 0., 0., 0., 0.],\n",
              "        [0., 0., 0., 0., 0., 0., 0., 0., 0.]]),\n",
              " array([[0., 0., 0., 0., 0., 0., 0., 0., 0.],\n",
              "        [0., 0., 0., 0., 0., 0., 0., 0., 0.],\n",
              "        [1., 1., 0., 0., 0., 0., 0., 0., 0.],\n",
              "        [1., 0., 1., 0., 0., 0., 0., 0., 0.],\n",
              "        [0., 0., 0., 1., 1., 0., 0., 0., 0.],\n",
              "        [0., 0., 0., 1., 0., 1., 0., 0., 0.],\n",
              "        [0., 0., 0., 0., 0., 0., 1., 1., 0.],\n",
              "        [0., 0., 0., 0., 0., 0., 1., 0., 1.]]))"
            ]
          },
          "metadata": {},
          "execution_count": 27
        }
      ]
    },
    {
      "cell_type": "code",
      "execution_count": null,
      "metadata": {
        "colab": {
          "base_uri": "https://localhost:8080/"
        },
        "id": "e97f17e9",
        "outputId": "26d962d2-892b-499f-d27c-d76869d0bcc1"
      },
      "outputs": [
        {
          "output_type": "execute_result",
          "data": {
            "text/plain": [
              "['XXXXXXIII',\n",
              " 'XXXIIIXXX',\n",
              " 'ZZIIIIIII',\n",
              " 'ZIZIIIIII',\n",
              " 'IIIZZIIII',\n",
              " 'IIIZIZIII',\n",
              " 'IIIIIIZZI',\n",
              " 'IIIIIIZIZ']"
            ]
          },
          "metadata": {},
          "execution_count": 28
        }
      ],
      "source": [
        "final_state = cluster_state_shor.stabilizer_generators(final_h_x, final_h_z)\n",
        "final_state"
      ]
    },
    {
      "cell_type": "code",
      "source": [
        "cluster_state_3_1 = ClusterState(5,[('1','4'),('4','2'),('2','5'),('5','3')],'2')\n",
        "code_3_1 = cluster_state_3_1.stabilizer_generators(cluster_state_3_1.H_X, cluster_state_3_1.H_Z)\n",
        "code_3_1"
      ],
      "metadata": {
        "colab": {
          "base_uri": "https://localhost:8080/"
        },
        "id": "MEkgaXpQiSUt",
        "outputId": "e8bf59df-ee42-408a-a9f1-696052d754b1"
      },
      "execution_count": null,
      "outputs": [
        {
          "output_type": "execute_result",
          "data": {
            "text/plain": [
              "['XIIZI', 'IXIZZ', 'IIXIZ', 'ZZIXI', 'IZZIX']"
            ]
          },
          "metadata": {},
          "execution_count": 29
        }
      ]
    },
    {
      "cell_type": "code",
      "source": [
        "h_x_3_1, h_z_3_1 = cluster_state_3_1.measure([\"4\",\"5\"])\n",
        "state_3_1 = cluster_state_3_1.stabilizer_generators(h_x_3_1, h_z_3_1)\n",
        "state_3_1"
      ],
      "metadata": {
        "colab": {
          "base_uri": "https://localhost:8080/"
        },
        "id": "-yn5KACzzxWF",
        "outputId": "1b2b97d1-e174-4759-b9af-2dd7f9dd78f6"
      },
      "execution_count": null,
      "outputs": [
        {
          "output_type": "execute_result",
          "data": {
            "text/plain": [
              "['ZZI', 'IZZ']"
            ]
          },
          "metadata": {},
          "execution_count": 30
        }
      ]
    },
    {
      "cell_type": "code",
      "source": [
        "steane_edges = [(\"1\",\"10\"),(\"1\",\"11\"),(\"1\",\"12\"),(\"2\",\"9\"),\n",
        "                (\"2\",\"11\"),(\"2\",\"12\"),(\"3\",\"9\"),(\"3\",\"10\"),\n",
        "                (\"3\",\"12\"),(\"8\",\"9\"),(\"8\",\"10\"),(\"8\",\"11\"),\n",
        "                (\"9\",\"4\"),(\"10\",\"5\"),(\"11\",\"6\"),(\"12\",\"7\")]\n",
        "cluster_state_steane = ClusterState(12,steane_edges,'8')\n",
        "code_steane = cluster_state_steane.stabilizer_generators(cluster_state_steane.H_X, cluster_state_steane.H_Z)\n",
        "code_steane"
      ],
      "metadata": {
        "colab": {
          "base_uri": "https://localhost:8080/"
        },
        "id": "Jd8ZwMjQ0gIh",
        "outputId": "b55ff657-b1ee-4438-c20f-0d1ac9fffd70"
      },
      "execution_count": null,
      "outputs": [
        {
          "output_type": "execute_result",
          "data": {
            "text/plain": [
              "['XIIIIIIIIZZZ',\n",
              " 'IXIIIIIIZIZZ',\n",
              " 'IIXIIIIIZZIZ',\n",
              " 'IIIXIIIIZIII',\n",
              " 'IIIIXIIIIZII',\n",
              " 'IIIIIXIIIIZI',\n",
              " 'IIIIIIXIIIIZ',\n",
              " 'IIIIIIIXZZZI',\n",
              " 'IZZZIIIZXIII',\n",
              " 'ZIZIZIIZIXII',\n",
              " 'ZZIIIZIZIIXI',\n",
              " 'ZZZIIIZIIIIX']"
            ]
          },
          "metadata": {},
          "execution_count": 31
        }
      ]
    },
    {
      "cell_type": "code",
      "source": [
        "h_x_steane, h_z_steane = cluster_state_steane.measure([\"8\",\"9\",\"10\",\"11\",\"12\"])\n",
        "state_steane = cluster_state_steane.stabilizer_generators(h_x_steane, h_z_steane)\n",
        "state_steane"
      ],
      "metadata": {
        "colab": {
          "base_uri": "https://localhost:8080/"
        },
        "id": "Hc1JtgTu5YIn",
        "outputId": "7b9332f3-db45-45d1-da81-174355d1e526"
      },
      "execution_count": null,
      "outputs": [
        {
          "output_type": "execute_result",
          "data": {
            "text/plain": [
              "['XXIXXII', 'XIXXIXI', 'XXXIIIX', 'ZZIZZII', 'ZIZZIZI', 'ZZZIIIZ']"
            ]
          },
          "metadata": {},
          "execution_count": 32
        }
      ]
    },
    {
      "cell_type": "code",
      "source": [],
      "metadata": {
        "id": "O8cqJHcg5ui3"
      },
      "execution_count": null,
      "outputs": []
    }
  ]
}