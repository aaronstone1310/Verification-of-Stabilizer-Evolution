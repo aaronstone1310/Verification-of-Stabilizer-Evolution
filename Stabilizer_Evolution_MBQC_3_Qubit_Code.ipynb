{
  "nbformat": 4,
  "nbformat_minor": 0,
  "metadata": {
    "colab": {
      "provenance": [],
      "authorship_tag": "ABX9TyPQz5uZuG13V+Tt02j3+UYp",
      "include_colab_link": true
    },
    "kernelspec": {
      "name": "python3",
      "display_name": "Python 3"
    },
    "language_info": {
      "name": "python"
    }
  },
  "cells": [
    {
      "cell_type": "markdown",
      "metadata": {
        "id": "view-in-github",
        "colab_type": "text"
      },
      "source": [
        "<a href=\"https://colab.research.google.com/github/aaronstone1310/Verification-of-Stabilizer-Evolution/blob/main/Stabilizer_Evolution_MBQC_3_Qubit_Code.ipynb\" target=\"_parent\"><img src=\"https://colab.research.google.com/assets/colab-badge.svg\" alt=\"Open In Colab\"/></a>"
      ]
    },
    {
      "cell_type": "code",
      "execution_count": 1,
      "metadata": {
        "id": "4b2aafeb"
      },
      "outputs": [],
      "source": [
        "import numpy as np"
      ]
    },
    {
      "cell_type": "code",
      "execution_count": 2,
      "metadata": {
        "id": "eb9175ff"
      },
      "outputs": [],
      "source": [
        "class ClusterState:\n",
        "\n",
        "    nodes = None\n",
        "    edges = None\n",
        "    adjecency_matrix = None\n",
        "    num_nodes = None\n",
        "    num_qubits = None\n",
        "    H_X = None\n",
        "    H_Z = None\n",
        "\n",
        "    def __init__(self, nodes, edges):\n",
        "\n",
        "        self.nodes = nodes\n",
        "        self.edges = edges\n",
        "        self.num_nodes = len(nodes)\n",
        "        self.adjecency_matrix = self._set_adjecency_matrix(len(nodes), edges)\n",
        "        self.H_X, self.H_Z = self.parity_check_matrix()\n",
        "\n",
        "    def _set_adjecency_matrix(self, dimension, edges):\n",
        "\n",
        "        adjecency_matrix = np.zeros((dimension, dimension))\n",
        "        for e in edges:\n",
        "            i, j = e\n",
        "            adjecency_matrix[int(i)-1][int(j)-1] = 1\n",
        "            adjecency_matrix[int(j)-1][int(i)-1] = 1\n",
        "\n",
        "        return adjecency_matrix\n",
        "\n",
        "    def parity_check_matrix(self):\n",
        "\n",
        "        H_X = np.zeros((self.num_nodes, self.num_nodes))\n",
        "        H_Z = np.zeros((self.num_nodes, self.num_nodes))\n",
        "\n",
        "        H_Z = self.adjecency_matrix\n",
        "\n",
        "        for i in range(len(H_X)):\n",
        "            H_X[i][i] = 1\n",
        "\n",
        "        return H_X, H_Z\n",
        "\n",
        "    @staticmethod\n",
        "    def stabilizer_generators(H_X, H_Z):\n",
        "\n",
        "        dim = H_X.shape[-1]\n",
        "        generators = []\n",
        "\n",
        "        for i in range(len(H_X)):\n",
        "            stabilizer = [\"I\"]*dim\n",
        "            for j in range(dim):\n",
        "                if H_Z[i][j] == 1:\n",
        "                    stabilizer[j] = \"Z\"\n",
        "                if H_X[i][j] == 1:\n",
        "                    stabilizer[j] = \"X\"\n",
        "            stabilizer = \"\".join(stabilizer)\n",
        "            generators.append(stabilizer)\n",
        "\n",
        "        return generators\n",
        "\n",
        "    @staticmethod\n",
        "    def offset(n, lst):\n",
        "\n",
        "        if len(lst) == 0:\n",
        "            return 0\n",
        "        else:\n",
        "            off = list(filter(lambda x: n > x, lst))\n",
        "            count = len(off)\n",
        "            return count\n",
        "\n",
        "    @staticmethod\n",
        "    def XOR(arr1, arr2):\n",
        "        arr = arr1 != arr2\n",
        "        arr = arr.astype(int)\n",
        "        return arr\n",
        "\n",
        "    def measure(self, measurement):\n",
        "\n",
        "\n",
        "        updated_h_x = np.copy(self.H_X)\n",
        "        updated_h_z = np.copy(self.H_Z)\n",
        "\n",
        "        qubits_measured = []\n",
        "\n",
        "        for q, m in measurement.items():\n",
        "            p = int(q)-1\n",
        "            anti_commute = []\n",
        "\n",
        "            p1 = p - ClusterState.offset(p,qubits_measured)\n",
        "\n",
        "            for i in range(len(updated_h_z)):\n",
        "                if updated_h_z[i][p1] == 1:\n",
        "                    anti_commute.append(i)\n",
        "\n",
        "            i1 = anti_commute[0]\n",
        "\n",
        "            for i in range(1,len(anti_commute)):\n",
        "                i2 = anti_commute[i]\n",
        "                x = ClusterState.XOR(updated_h_x[i1], updated_h_x[i2])\n",
        "                z = ClusterState.XOR(updated_h_z[i1], updated_h_z[i2])\n",
        "                for i in range(len(x)):\n",
        "                    updated_h_x[i2][i] = x[i]\n",
        "                    updated_h_z[i2][i] = z[i]\n",
        "\n",
        "            qubits_measured.append(p1)\n",
        "\n",
        "            h_x = np.delete(updated_h_x,i1,0)\n",
        "            h_z = np.delete(updated_h_z,i1,0)\n",
        "            h_x = np.delete(h_x,p1,1)\n",
        "            h_z = np.delete(h_z,p1,1)\n",
        "            updated_h_x = h_x\n",
        "            updated_h_z = h_z\n",
        "\n",
        "        return updated_h_x, updated_h_z"
      ]
    },
    {
      "cell_type": "code",
      "execution_count": 3,
      "metadata": {
        "colab": {
          "base_uri": "https://localhost:8080/"
        },
        "id": "488dfd15",
        "outputId": "64c14861-ef5a-4f49-9b7d-327fed1b51de"
      },
      "outputs": [
        {
          "output_type": "execute_result",
          "data": {
            "text/plain": [
              "['XZZII', 'ZXIZI', 'ZIXIZ', 'IZIXI', 'IIZIX']"
            ]
          },
          "metadata": {},
          "execution_count": 3
        }
      ],
      "source": [
        "nodes = [str(i) for i in range(1,6)]\n",
        "\n",
        "edges = [('1','2'),('1','3'),('2','4'),('3','5')]\n",
        "\n",
        "cs = ClusterState(nodes,edges)\n",
        "sg = cs.stabilizer_generators(cs.H_X, cs.H_Z)\n",
        "sg"
      ]
    },
    {
      "cell_type": "code",
      "source": [
        "measurement = {\"2\":\"X\", \"3\":\"X\"}\n",
        "final_h_x, final_h_z = cs.measure(measurement)\n",
        "ls = [final_h_x, final_h_z]\n",
        "final_h_x, final_h_z"
      ],
      "metadata": {
        "colab": {
          "base_uri": "https://localhost:8080/"
        },
        "id": "o-txC0Xt51ea",
        "outputId": "8e9b2956-8795-4f26-9063-63a60cfcaca3"
      },
      "execution_count": 4,
      "outputs": [
        {
          "output_type": "execute_result",
          "data": {
            "text/plain": [
              "(array([[0., 0., 0.],\n",
              "        [0., 0., 0.],\n",
              "        [1., 1., 1.]]),\n",
              " array([[1., 1., 0.],\n",
              "        [1., 0., 1.],\n",
              "        [0., 0., 0.]]))"
            ]
          },
          "metadata": {},
          "execution_count": 4
        }
      ]
    },
    {
      "cell_type": "code",
      "source": [
        "final_state = cs.stabilizer_generators(final_h_x, final_h_z)\n",
        "final_state"
      ],
      "metadata": {
        "colab": {
          "base_uri": "https://localhost:8080/"
        },
        "id": "Uhg3F5fs6Egg",
        "outputId": "c73d70d1-8c16-480e-864d-6eb1d8124f88"
      },
      "execution_count": 5,
      "outputs": [
        {
          "output_type": "execute_result",
          "data": {
            "text/plain": [
              "['ZZI', 'ZIZ', 'XXX']"
            ]
          },
          "metadata": {},
          "execution_count": 5
        }
      ]
    },
    {
      "cell_type": "code",
      "source": [],
      "metadata": {
        "id": "hq2c3sew6F52"
      },
      "execution_count": null,
      "outputs": []
    }
  ]
}