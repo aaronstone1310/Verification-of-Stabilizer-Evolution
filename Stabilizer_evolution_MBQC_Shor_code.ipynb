{
  "cells": [
    {
      "cell_type": "markdown",
      "metadata": {
        "id": "view-in-github",
        "colab_type": "text"
      },
      "source": [
        "<a href=\"https://colab.research.google.com/github/aaronstone1310/Verification-of-Stabilizer-Evolution/blob/main/Stabilizer_evolution_MBQC_Shor_code.ipynb\" target=\"_parent\"><img src=\"https://colab.research.google.com/assets/colab-badge.svg\" alt=\"Open In Colab\"/></a>"
      ]
    },
    {
      "cell_type": "code",
      "execution_count": null,
      "metadata": {
        "id": "4b2aafeb"
      },
      "outputs": [],
      "source": [
        "import numpy as np"
      ],
      "id": "4b2aafeb"
    },
    {
      "cell_type": "code",
      "execution_count": null,
      "metadata": {
        "id": "eb9175ff"
      },
      "outputs": [],
      "source": [
        "class ClusterState:\n",
        "\n",
        "    nodes = None\n",
        "    edges = None\n",
        "    adjecency_matrix = None\n",
        "    num_nodes = None\n",
        "    num_qubits = None\n",
        "    H_X = None\n",
        "    H_Z = None\n",
        "\n",
        "    def __init__(self, nodes, edges):\n",
        "\n",
        "        self.nodes = nodes\n",
        "        self.edges = edges\n",
        "        self.num_nodes = len(nodes)\n",
        "        self.adjecency_matrix = self._set_adjecency_matrix(len(nodes), edges)\n",
        "        self.H_X, self.H_Z = self.parity_check_matrix()\n",
        "\n",
        "    def _set_adjecency_matrix(self, dimension, edges):\n",
        "\n",
        "        adjecency_matrix = np.zeros((dimension, dimension))\n",
        "        for e in edges:\n",
        "            i, j = e\n",
        "            adjecency_matrix[int(i)-1][int(j)-1] = 1\n",
        "            adjecency_matrix[int(j)-1][int(i)-1] = 1\n",
        "\n",
        "        return adjecency_matrix\n",
        "\n",
        "    def parity_check_matrix(self):\n",
        "\n",
        "        H_X = np.zeros((self.num_nodes, self.num_nodes))\n",
        "        H_Z = np.zeros((self.num_nodes, self.num_nodes))\n",
        "\n",
        "        H_Z = self.adjecency_matrix\n",
        "\n",
        "        for i in range(len(H_X)):\n",
        "            H_X[i][i] = 1\n",
        "\n",
        "        return H_X, H_Z\n",
        "\n",
        "    @staticmethod\n",
        "    def stabilizer_generators(H_X, H_Z):\n",
        "\n",
        "        dim = H_X.shape[-1]\n",
        "        generators = []\n",
        "\n",
        "        for i in range(len(H_X)):\n",
        "            stabilizer = [\"I\"]*dim\n",
        "            for j in range(dim):\n",
        "                if H_Z[i][j] == 1:\n",
        "                    stabilizer[j] = \"Z\"\n",
        "                if H_X[i][j] == 1:\n",
        "                    stabilizer[j] = \"X\"\n",
        "            stabilizer = \"\".join(stabilizer)\n",
        "            generators.append(stabilizer)\n",
        "\n",
        "        return generators\n",
        "\n",
        "    @staticmethod\n",
        "    def offset(n, lst):\n",
        "\n",
        "        if len(lst) == 0:\n",
        "            return 0\n",
        "        else:\n",
        "            off = list(filter(lambda x: n > x, lst))\n",
        "            count = len(off)\n",
        "            return count\n",
        "\n",
        "    @staticmethod\n",
        "    def XOR(arr1, arr2):\n",
        "        arr = arr1 != arr2\n",
        "        arr = arr.astype(int)\n",
        "        return arr\n",
        "\n",
        "    def measure(self, measurement):\n",
        "\n",
        "\n",
        "        updated_h_x = np.copy(self.H_X)\n",
        "        updated_h_z = np.copy(self.H_Z)\n",
        "\n",
        "        qubits_measured = []\n",
        "\n",
        "        for q, m in measurement.items():\n",
        "            p = int(q)-1\n",
        "            anti_commute = []\n",
        "\n",
        "            p1 = p - ClusterState.offset(p,qubits_measured)\n",
        "\n",
        "            for i in range(len(updated_h_z)):\n",
        "                if updated_h_z[i][p1] == 1:\n",
        "                    anti_commute.append(i)\n",
        "\n",
        "            i1 = anti_commute[0]\n",
        "\n",
        "            for i in range(1,len(anti_commute)):\n",
        "                i2 = anti_commute[i]\n",
        "                x = ClusterState.XOR(updated_h_x[i1], updated_h_x[i2])\n",
        "                z = ClusterState.XOR(updated_h_z[i1], updated_h_z[i2])\n",
        "                for i in range(len(x)):\n",
        "                    updated_h_x[i2][i] = x[i]\n",
        "                    updated_h_z[i2][i] = z[i]\n",
        "\n",
        "            qubits_measured.append(p1)\n",
        "\n",
        "            h_x = np.delete(updated_h_x,i1,0)\n",
        "            h_z = np.delete(updated_h_z,i1,0)\n",
        "            h_x = np.delete(h_x,p1,1)\n",
        "            h_z = np.delete(h_z,p1,1)\n",
        "            updated_h_x = h_x\n",
        "            updated_h_z = h_z\n",
        "\n",
        "        return updated_h_x, updated_h_z"
      ],
      "id": "eb9175ff"
    },
    {
      "cell_type": "code",
      "execution_count": null,
      "metadata": {
        "colab": {
          "base_uri": "https://localhost:8080/"
        },
        "id": "488dfd15",
        "outputId": "9eb63b82-6a90-46cd-90e9-8d083ac3da76"
      },
      "outputs": [
        {
          "output_type": "execute_result",
          "data": {
            "text/plain": [
              "['XZZZIIIIIIIIIIII',\n",
              " 'ZXIIZIZIIIIIIIII',\n",
              " 'ZIXIIIIIZIZIIIII',\n",
              " 'ZIIXIIIIIIIIZIZI',\n",
              " 'IZIIXZIIIIIIIIII',\n",
              " 'IIIIZXIIIIIIIIII',\n",
              " 'IZIIIIXZIIIIIIII',\n",
              " 'IIIIIIZXIIIIIIII',\n",
              " 'IIZIIIIIXZIIIIII',\n",
              " 'IIIIIIIIZXIIIIII',\n",
              " 'IIZIIIIIIIXZIIII',\n",
              " 'IIIIIIIIIIZXIIII',\n",
              " 'IIIZIIIIIIIIXZII',\n",
              " 'IIIIIIIIIIIIZXII',\n",
              " 'IIIZIIIIIIIIIIXZ',\n",
              " 'IIIIIIIIIIIIIIZX']"
            ]
          },
          "metadata": {},
          "execution_count": 3
        }
      ],
      "source": [
        "nodes = [str(i) for i in range(1,17)]\n",
        "\n",
        "edges = [('1','2'),('1','3'),('1','4'),('2','5'),\n",
        "     ('2','7'),('3','9'),('3','11'),('4','13'),\n",
        "     ('4','15'),('5','6'),('7','8'),('9','10'),\n",
        "     ('11','12'),('13','14'),('15','16')]\n",
        "\n",
        "cs = ClusterState(nodes,edges)\n",
        "sg = cs.stabilizer_generators(cs.H_X, cs.H_Z)\n",
        "sg"
      ],
      "id": "488dfd15"
    },
    {
      "cell_type": "code",
      "execution_count": null,
      "metadata": {
        "colab": {
          "base_uri": "https://localhost:8080/"
        },
        "id": "914a512e",
        "outputId": "227c7d1b-ff5d-4906-f7aa-c0e2954d4eb5"
      },
      "outputs": [
        {
          "output_type": "execute_result",
          "data": {
            "text/plain": [
              "(array([[0., 0., 0., 0., 0., 0., 0., 0., 0.],\n",
              "        [0., 0., 0., 0., 0., 0., 0., 0., 0.],\n",
              "        [0., 0., 0., 0., 0., 0., 0., 0., 0.],\n",
              "        [0., 0., 0., 0., 0., 0., 0., 0., 0.],\n",
              "        [0., 0., 0., 0., 0., 0., 0., 0., 0.],\n",
              "        [1., 1., 0., 1., 1., 1., 1., 0., 0.],\n",
              "        [0., 0., 0., 0., 0., 0., 0., 0., 0.],\n",
              "        [0., 0., 0., 0., 0., 0., 0., 0., 0.],\n",
              "        [1., 0., 1., 1., 1., 0., 0., 1., 1.]]),\n",
              " array([[1., 1., 1., 0., 0., 0., 0., 0., 0.],\n",
              "        [1., 0., 0., 1., 0., 0., 0., 0., 0.],\n",
              "        [1., 0., 0., 0., 1., 0., 0., 0., 0.],\n",
              "        [0., 1., 0., 0., 0., 1., 0., 0., 0.],\n",
              "        [0., 1., 0., 0., 0., 0., 1., 0., 0.],\n",
              "        [0., 0., 0., 0., 0., 0., 0., 0., 0.],\n",
              "        [0., 0., 1., 0., 0., 0., 0., 1., 0.],\n",
              "        [0., 0., 1., 0., 0., 0., 0., 0., 1.],\n",
              "        [0., 0., 0., 0., 0., 0., 0., 0., 0.]]))"
            ]
          },
          "metadata": {},
          "execution_count": 4
        }
      ],
      "source": [
        "measurement = {\"1\":\"X\", \"5\":\"X\", \"7\":\"X\", \"9\":\"X\", \"11\":\"X\", \"13\":\"X\", \"15\":\"X\"}\n",
        "final_h_x, final_h_z = cs.measure(measurement)\n",
        "ls = [final_h_x, final_h_z]\n",
        "final_h_x, final_h_z"
      ],
      "id": "914a512e"
    },
    {
      "cell_type": "code",
      "execution_count": null,
      "metadata": {
        "colab": {
          "base_uri": "https://localhost:8080/"
        },
        "id": "e97f17e9",
        "outputId": "57ac2784-86dc-4a5a-94e5-ebcc49bb57d1"
      },
      "outputs": [
        {
          "output_type": "execute_result",
          "data": {
            "text/plain": [
              "['ZZZIIIIII',\n",
              " 'ZIIZIIIII',\n",
              " 'ZIIIZIIII',\n",
              " 'IZIIIZIII',\n",
              " 'IZIIIIZII',\n",
              " 'XXIXXXXII',\n",
              " 'IIZIIIIZI',\n",
              " 'IIZIIIIIZ',\n",
              " 'XIXXXIIXX']"
            ]
          },
          "metadata": {},
          "execution_count": 5
        }
      ],
      "source": [
        "final_state = cs.stabilizer_generators(final_h_x, final_h_z)\n",
        "final_state"
      ],
      "id": "e97f17e9"
    }
  ],
  "metadata": {
    "colab": {
      "provenance": [],
      "include_colab_link": true
    },
    "kernelspec": {
      "display_name": "Python 3",
      "language": "python",
      "name": "python3"
    },
    "language_info": {
      "codemirror_mode": {
        "name": "ipython",
        "version": 3
      },
      "file_extension": ".py",
      "mimetype": "text/x-python",
      "name": "python",
      "nbconvert_exporter": "python",
      "pygments_lexer": "ipython3",
      "version": "3.7.4"
    }
  },
  "nbformat": 4,
  "nbformat_minor": 5
}